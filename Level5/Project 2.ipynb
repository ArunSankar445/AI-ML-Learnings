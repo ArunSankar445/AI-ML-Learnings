{
 "cells": [
  {
   "cell_type": "code",
   "execution_count": 41,
   "metadata": {},
   "outputs": [],
   "source": [
    "student_grade = []"
   ]
  },
  {
   "cell_type": "code",
   "execution_count": 42,
   "metadata": {},
   "outputs": [],
   "source": [
    "for i in range (5):\n",
    "    name = input(\"Student Name: \")\n",
    "    grade = float(input(\"Grade from 0 to 100: \"))\n",
    "    student_grade.append((name, grade))"
   ]
  },
  {
   "cell_type": "code",
   "execution_count": 46,
   "metadata": {},
   "outputs": [],
   "source": [
    "def calculate_grade():\n",
    "    average_grade = 0\n",
    "    for i in range (5):\n",
    "        average_grade += (student_grade[i][1])\n",
    "    average_grade = average_grade / 5\n",
    "    return average_grade"
   ]
  },
  {
   "cell_type": "code",
   "execution_count": 47,
   "metadata": {},
   "outputs": [],
   "source": [
    "def pass_student():\n",
    "    count = 0\n",
    "    for i in range(5):\n",
    "        if (student_grade[i][1])>60:\n",
    "            count+=1\n",
    "\n",
    "    return count"
   ]
  },
  {
   "cell_type": "code",
   "execution_count": 48,
   "metadata": {},
   "outputs": [
    {
     "name": "stdout",
     "output_type": "stream",
     "text": [
      "Average: 68.14, Passing: 3\n"
     ]
    }
   ],
   "source": [
    "print(f\"Average: {calculate_grade()}, Passing: {pass_student()}\")"
   ]
  }
 ],
 "metadata": {
  "kernelspec": {
   "display_name": "Python 3 (myenv)",
   "language": "python",
   "name": "myenv"
  },
  "language_info": {
   "codemirror_mode": {
    "name": "ipython",
    "version": 3
   },
   "file_extension": ".py",
   "mimetype": "text/x-python",
   "name": "python",
   "nbconvert_exporter": "python",
   "pygments_lexer": "ipython3",
   "version": "3.12.4"
  }
 },
 "nbformat": 4,
 "nbformat_minor": 2
}
