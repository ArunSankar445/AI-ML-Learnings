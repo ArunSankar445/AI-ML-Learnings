{
 "cells": [
  {
   "cell_type": "code",
   "execution_count": 1,
   "id": "1df5379a",
   "metadata": {},
   "outputs": [],
   "source": [
    "import numpy as np\n",
    "import pandas as pd\n",
    "from sklearn.model_selection import train_test_split\n",
    "from sklearn.preprocessing import StandardScaler\n",
    "import matplotlib.pyplot as plt"
   ]
  },
  {
   "cell_type": "code",
   "execution_count": 2,
   "id": "d1e7b622",
   "metadata": {},
   "outputs": [],
   "source": [
    "url = \"https://raw.githubusercontent.com/datasciencedojo/datasets/master/titanic.csv\"\n",
    "data = pd.read_csv(url)"
   ]
  },
  {
   "cell_type": "code",
   "execution_count": 3,
   "id": "4c303a2e",
   "metadata": {},
   "outputs": [],
   "source": [
    "data = data[['Pclass', 'Age', 'SibSp', 'Parch', 'Fare', 'Survived']].dropna()"
   ]
  },
  {
   "cell_type": "code",
   "execution_count": 4,
   "id": "e8e757d0",
   "metadata": {},
   "outputs": [],
   "source": [
    "X = data.drop(columns=['Survived']).values\n",
    "y = data['Survived'].values.reshape(-1, 1)"
   ]
  },
  {
   "cell_type": "code",
   "execution_count": 5,
   "id": "91131cf2",
   "metadata": {},
   "outputs": [],
   "source": [
    "scaler = StandardScaler()\n",
    "X = scaler.fit_transform(X)"
   ]
  },
  {
   "cell_type": "code",
   "execution_count": 6,
   "id": "d620b72e",
   "metadata": {},
   "outputs": [],
   "source": [
    "X_train, X_test, y_train, y_test = train_test_split(X, y, test_size=0.2, random_state=42)"
   ]
  },
  {
   "cell_type": "code",
   "execution_count": 7,
   "id": "7d10fc32",
   "metadata": {},
   "outputs": [],
   "source": [
    "input_dim = X_train.shape[1]\n",
    "hidden_dim = 8 \n",
    "output_dim = 1"
   ]
  },
  {
   "cell_type": "code",
   "execution_count": 8,
   "id": "d7636818",
   "metadata": {},
   "outputs": [],
   "source": [
    "W1 = np.random.randn(input_dim, hidden_dim) \n",
    "b1 = np.zeros((1, hidden_dim)) \n",
    "W2 = np.random.randn(hidden_dim, output_dim) \n",
    "b2 = np.zeros((1, output_dim)) "
   ]
  },
  {
   "cell_type": "code",
   "execution_count": 9,
   "id": "0cc533d3",
   "metadata": {},
   "outputs": [],
   "source": [
    "def relu(Z):\n",
    "    return np.maximum(0, Z)\n",
    "\n",
    "def sigmoid(Z):\n",
    "    return 1 / (1 + np.exp(-Z))\n",
    "\n",
    "def relu_derivative(Z):\n",
    "    return (Z > 0).astype(float)"
   ]
  },
  {
   "cell_type": "code",
   "execution_count": 10,
   "id": "986a862d",
   "metadata": {},
   "outputs": [],
   "source": [
    "def compute_loss(y_true, y_pred):\n",
    "    epsilon = 1e-15  \n",
    "    y_pred = np.clip(y_pred, epsilon, 1 - epsilon)\n",
    "    return -np.mean(y_true * np.log(y_pred) + (1 - y_true) * np.log(1 - y_pred))"
   ]
  },
  {
   "cell_type": "code",
   "execution_count": 11,
   "id": "db1fe639",
   "metadata": {},
   "outputs": [],
   "source": [
    "learning_rate = 0.01\n",
    "epochs = 50\n",
    "losses = []"
   ]
  },
  {
   "cell_type": "code",
   "execution_count": 12,
   "id": "e0f78d24",
   "metadata": {},
   "outputs": [],
   "source": [
    "for epoch in range(epochs):\n",
    "    Z1 = np.dot(X_train, W1) + b1\n",
    "    A1 = relu(Z1) \n",
    "    Z2 = np.dot(A1, W2) + b2\n",
    "    A2 = sigmoid(Z2) \n",
    "\n",
    "    loss = compute_loss(y_train, A2)\n",
    "    losses.append(loss)"
   ]
  },
  {
   "cell_type": "code",
   "execution_count": null,
   "id": "48e71e73",
   "metadata": {},
   "outputs": [],
   "source": [
    "dA2 = -(y_train / A2 - (1 - y_train) / (1 - A2))  \n",
    "dZ2 = dA2 * A2 * (1 - A2) \n",
    "dW2 = np.dot(A1.T, dZ2) / len(X_train) \n",
    "db2 = np.sum(dZ2, axis=0, keepdims=True) / len(X_train)"
   ]
  },
  {
   "cell_type": "code",
   "execution_count": 14,
   "id": "b293c410",
   "metadata": {},
   "outputs": [],
   "source": [
    "dA1 = np.dot(dZ2, W2.T)  \n",
    "dZ1 = dA1 * relu_derivative(Z1) \n",
    "dW1 = np.dot(X_train.T, dZ1) / len(X_train)  \n",
    "db1 = np.sum(dZ1, axis=0, keepdims=True) / len(X_train)"
   ]
  },
  {
   "cell_type": "code",
   "execution_count": 15,
   "id": "8b461ea4",
   "metadata": {},
   "outputs": [],
   "source": [
    "W2 -= learning_rate * dW2\n",
    "b2 -= learning_rate * db2\n",
    "W1 -= learning_rate * dW1\n",
    "b1 -= learning_rate * db1"
   ]
  },
  {
   "cell_type": "code",
   "execution_count": null,
   "id": "dce63f53",
   "metadata": {},
   "outputs": [
    {
     "name": "stdout",
     "output_type": "stream",
     "text": [
      "Epoch 50/50, Loss: 1.4584\n"
     ]
    },
    {
     "data": {
      "image/png": "[encoded data removed]",
      "text/plain": [
       "<Figure size 800x600 with 1 Axes>"
      ]
     },
     "metadata": {},
     "output_type": "display_data"
    }
   ],
   "source": [
    "if (epoch + 1) % 10 == 0:\n",
    "    print(f\"Epoch {epoch+1}/{epochs}, Loss: {loss:.4f}\")\n",
    "\n",
    "plt.figure(figsize=(8, 6))\n",
    "plt.plot(range(1, epochs + 1), losses, label='Training Loss')\n",
    "plt.xlabel('Epochs')\n",
    "plt.ylabel('Loss (Binary Cross-Entropy)')\n",
    "plt.title('Loss Reduction Over Epochs')\n",
    "plt.legend()\n",
    "plt.grid()"
   ]
  },
  {
   "cell_type": "code",
   "execution_count": 18,
   "id": "87aea7c9",
   "metadata": {},
   "outputs": [
    {
     "data": {
      "text/plain": [
       "'\\nChallenge in Manual Backpropagation:\\nOne major challenge is ensuring correct gradient calculations for each layer. The chain rule must be applied meticulously,\\nand errors in derivatives can propagate through the network, leading to incorrect updates. This process is error-prone\\nand computationally intensive, especially for deeper networks. Automated frameworks like TensorFlow or PyTorch simplify\\nthis by handling gradients automatically.\\n'"
      ]
     },
     "execution_count": 18,
     "metadata": {},
     "output_type": "execute_result"
    }
   ],
   "source": [
    "\"\"\"\n",
    "Challenge in Manual Backpropagation:\n",
    "One major challenge is ensuring correct gradient calculations for each layer. The chain rule must be applied meticulously,\n",
    "and errors in derivatives can propagate through the network, leading to incorrect updates. This process is error-prone\n",
    "and computationally intensive, especially for deeper networks. Automated frameworks like TensorFlow or PyTorch simplify\n",
    "this by handling gradients automatically.\n",
    "\"\"\""
   ]
  },
  {
   "cell_type": "code",
   "execution_count": null,
   "id": "517ffc8d",
   "metadata": {},
   "outputs": [],
   "source": []
  }
 ],
 "metadata": {
  "kernelspec": {
   "display_name": "base",
   "language": "python",
   "name": "python3"
  },
  "language_info": {
   "codemirror_mode": {
    "name": "ipython",
    "version": 3
   },
   "file_extension": ".py",
   "mimetype": "text/x-python",
   "name": "python",
   "nbconvert_exporter": "python",
   "pygments_lexer": "ipython3",
   "version": "3.12.3"
  }
 },
 "nbformat": 4,
 "nbformat_minor": 5
}
