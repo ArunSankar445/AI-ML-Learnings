{
 "cells": [
  {
   "cell_type": "code",
   "execution_count": 3,
   "id": "845e2295",
   "metadata": {},
   "outputs": [],
   "source": [
    "import numpy as np\n",
    "import pandas as pd\n",
    "from sklearn.model_selection import train_test_split\n",
    "from sklearn.preprocessing import StandardScaler\n",
    "import matplotlib.pyplot as plt\n",
    "from sklearn.datasets import fetch_california_housing"
   ]
  },
  {
   "cell_type": "code",
   "execution_count": 4,
   "id": "11b9be6e",
   "metadata": {},
   "outputs": [],
   "source": [
    "california = fetch_california_housing()\n",
    "data = pd.DataFrame(california.data, columns=california.feature_names)\n",
    "data['PRICE'] = california.target"
   ]
  },
  {
   "cell_type": "code",
   "execution_count": 5,
   "id": "63141502",
   "metadata": {},
   "outputs": [],
   "source": [
    "X = data.drop(columns=['PRICE']).values\n",
    "y = data['PRICE'].values.reshape(-1, 1)\n",
    "scaler = StandardScaler()\n",
    "X = scaler.fit_transform(X)\n",
    "X_train, X_test, y_train, y_test = train_test_split(X, y, test_size=0.2, random_state=42)"
   ]
  },
  {
   "cell_type": "code",
   "execution_count": 6,
   "id": "a170bc0b",
   "metadata": {},
   "outputs": [],
   "source": [
    "input_dim = X_train.shape[1]\n",
    "weights = np.random.randn(input_dim, 1) * 0.01\n",
    "bias = np.zeros((1, 1))"
   ]
  },
  {
   "cell_type": "code",
   "execution_count": null,
   "id": "0abad2c2",
   "metadata": {},
   "outputs": [],
   "source": [
    "learning_rate = 0.01\n",
    "epochs = 100\n",
    "losses = []"
   ]
  },
  {
   "cell_type": "code",
   "execution_count": 8,
   "id": "be0f1a4a",
   "metadata": {},
   "outputs": [],
   "source": [
    "for epoch in range(epochs):\n",
    "   \n",
    "    y_pred = np.dot(X_train, weights) + bias\n",
    "    loss = np.mean((y_pred - y_train) ** 2)\n",
    "    losses.append(loss)"
   ]
  },
  {
   "cell_type": "code",
   "execution_count": null,
   "id": "fc68fb69",
   "metadata": {},
   "outputs": [],
   "source": [
    "dL_dw = (2 / len(y_train)) * np.dot(X_train.T, (y_pred - y_train))\n",
    "dL_db = (2 / len(y_train)) * np.sum(y_pred - y_train)\n",
    "    \n",
    "weights -= learning_rate * dL_dw\n",
    "bias -= learning_rate * dL_db"
   ]
  },
  {
   "cell_type": "code",
   "execution_count": null,
   "id": "9dc97d2c",
   "metadata": {},
   "outputs": [
    {
     "name": "stdout",
     "output_type": "stream",
     "text": [
      "Epoch 100/100, Loss: 5.5946\n"
     ]
    }
   ],
   "source": [
    "\n",
    "if (epoch + 1) % 10 == 0:\n",
    "    print(f\"Epoch {epoch+1}/{epochs}, Loss: {loss:.4f}\")"
   ]
  },
  {
   "cell_type": "code",
   "execution_count": 11,
   "id": "e6ab25aa",
   "metadata": {},
   "outputs": [
    {
     "data": {
      "image/png": "[encoded data removed]",
      "text/plain": [
       "<Figure size 800x600 with 1 Axes>"
      ]
     },
     "metadata": {},
     "output_type": "display_data"
    }
   ],
   "source": [
    "plt.figure(figsize=(8, 6))\n",
    "plt.plot(range(1, epochs + 1), losses, label='Training Loss')\n",
    "plt.xlabel('Epochs')\n",
    "plt.ylabel('Loss (MSE)')\n",
    "plt.title('Loss Curve')\n",
    "plt.legend()\n",
    "plt.grid()\n",
    "plt.show()"
   ]
  },
  {
   "cell_type": "code",
   "execution_count": 12,
   "id": "74e33654",
   "metadata": {},
   "outputs": [
    {
     "name": "stdout",
     "output_type": "stream",
     "text": [
      "Predictions vs. Actuals:\n",
      "    Actual  Predicted\n",
      "0  0.47700  -0.008591\n",
      "1  0.45800   0.019591\n",
      "2  5.00001  -0.007240\n",
      "3  2.18600   0.097001\n",
      "4  2.78000   0.030107\n",
      "5  1.58700   0.073488\n",
      "6  1.98200   0.082167\n",
      "7  1.57500   0.046124\n",
      "8  3.40000   0.046346\n",
      "9  4.46600   0.129912\n"
     ]
    }
   ],
   "source": [
    "y_test_pred = np.dot(X_test, weights) + bias\n",
    "results = pd.DataFrame({\n",
    "    'Actual': y_test.flatten(),\n",
    "    'Predicted': y_test_pred.flatten()\n",
    "})\n",
    "\n",
    "print(\"Predictions vs. Actuals:\")\n",
    "print(results.head(10))"
   ]
  },
  {
   "cell_type": "code",
   "execution_count": null,
   "id": "df0c3f01",
   "metadata": {},
   "outputs": [],
   "source": []
  }
 ],
 "metadata": {
  "kernelspec": {
   "display_name": "base",
   "language": "python",
   "name": "python3"
  },
  "language_info": {
   "codemirror_mode": {
    "name": "ipython",
    "version": 3
   },
   "file_extension": ".py",
   "mimetype": "text/x-python",
   "name": "python",
   "nbconvert_exporter": "python",
   "pygments_lexer": "ipython3",
   "version": "3.12.3"
  }
 },
 "nbformat": 4,
 "nbformat_minor": 5
}
