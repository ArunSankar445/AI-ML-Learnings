{
 "cells": [
  {
   "cell_type": "code",
   "execution_count": 19,
   "metadata": {},
   "outputs": [],
   "source": [
    "import numpy as np\n",
    "import statsmodels.stats.weightstats as st"
   ]
  },
  {
   "cell_type": "code",
   "execution_count": 23,
   "metadata": {},
   "outputs": [],
   "source": [
    "np.random.seed(42)\n",
    "sample = np.random.normal(loc= 140, scale= 15, size= 30)"
   ]
  },
  {
   "cell_type": "code",
   "execution_count": 24,
   "metadata": {},
   "outputs": [],
   "source": [
    "z_score,p_value = st.ztest(sample, value=100)"
   ]
  },
  {
   "cell_type": "code",
   "execution_count": 31,
   "metadata": {},
   "outputs": [
    {
     "name": "stdout",
     "output_type": "stream",
     "text": [
      "Z-Score ≈ 15.08\n",
      "p_value < 0.05, Reject H₀; medication affects IQ, likely increasing it (mean = 140 > 100).\n"
     ]
    }
   ],
   "source": [
    "print(f\"Z-Score ≈ {z_score:.2f}\")\n",
    "if p_value < 0.05:\n",
    "    print(\"p_value < 0.05, Reject H₀; medication affects IQ, likely increasing it (mean = 140 > 100).\")\n",
    "else:\n",
    "    print(\"Fail to reject H₀; no significant effect of medication on IQ.\")"
   ]
  }
 ],
 "metadata": {
  "kernelspec": {
   "display_name": "Python 3 (myenv)",
   "language": "python",
   "name": "myenv"
  },
  "language_info": {
   "codemirror_mode": {
    "name": "ipython",
    "version": 3
   },
   "file_extension": ".py",
   "mimetype": "text/x-python",
   "name": "python",
   "nbconvert_exporter": "python",
   "pygments_lexer": "ipython3",
   "version": "3.12.4"
  }
 },
 "nbformat": 4,
 "nbformat_minor": 2
}
