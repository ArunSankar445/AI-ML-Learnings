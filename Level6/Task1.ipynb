{
 "cells": [
  {
   "cell_type": "code",
   "execution_count": 1,
   "metadata": {},
   "outputs": [],
   "source": [
    "import numpy as np \n",
    "from scipy import stats"
   ]
  },
  {
   "cell_type": "code",
   "execution_count": 3,
   "metadata": {},
   "outputs": [],
   "source": [
    "scores = [90, 75, 50, 67, 88, 55, 90, 97, 77, 88]"
   ]
  },
  {
   "cell_type": "code",
   "execution_count": 4,
   "metadata": {},
   "outputs": [],
   "source": [
    "mean_score = np.mean(scores)\n",
    "median_score = np.median(scores)\n",
    "std_dev = np.std(scores)"
   ]
  },
  {
   "cell_type": "code",
   "execution_count": 5,
   "metadata": {},
   "outputs": [
    {
     "name": "stdout",
     "output_type": "stream",
     "text": [
      "Descriptive Statistics:\n",
      "Mean Score: 77.7\n",
      "Median Score: 82.5\n",
      "Standard Deviation: 15.13968295572929\n"
     ]
    }
   ],
   "source": [
    "print(f\"Descriptive Statistics:\")\n",
    "print(f\"Mean Score: {mean_score}\")\n",
    "print(f\"Median Score: {median_score}\")\n",
    "print(f\"Standard Deviation: {std_dev}\")"
   ]
  },
  {
   "cell_type": "code",
   "execution_count": 14,
   "metadata": {},
   "outputs": [],
   "source": [
    "t_stat, p_value = stats.ttest_1samp(scores, 80)"
   ]
  },
  {
   "cell_type": "code",
   "execution_count": 15,
   "metadata": {},
   "outputs": [
    {
     "name": "stdout",
     "output_type": "stream",
     "text": [
      "\n",
      "Inferential Statistics:\n",
      "T-Statistic: -0.456\n",
      "P-Value: 0.659\n"
     ]
    }
   ],
   "source": [
    "print(\"\\nInferential Statistics:\")\n",
    "print(f\"T-Statistic: {t_stat:.3f}\")\n",
    "print(f\"P-Value: {p_value:.3f}\")"
   ]
  },
  {
   "cell_type": "code",
   "execution_count": 16,
   "metadata": {},
   "outputs": [
    {
     "name": "stdout",
     "output_type": "stream",
     "text": [
      "There is no significant difference from 80.\n"
     ]
    }
   ],
   "source": [
    "if p_value < 0.05:\n",
    "    print(\"The average test score is significantly different from 80.\")\n",
    "else:\n",
    "    print(\"There is no significant difference from 80.\")"
   ]
  },
  {
   "cell_type": "code",
   "execution_count": null,
   "metadata": {},
   "outputs": [],
   "source": []
  }
 ],
 "metadata": {
  "kernelspec": {
   "display_name": "Python 3 (myenv)",
   "language": "python",
   "name": "myenv"
  },
  "language_info": {
   "codemirror_mode": {
    "name": "ipython",
    "version": 3
   },
   "file_extension": ".py",
   "mimetype": "text/x-python",
   "name": "python",
   "nbconvert_exporter": "python",
   "pygments_lexer": "ipython3",
   "version": "3.12.4"
  }
 },
 "nbformat": 4,
 "nbformat_minor": 2
}
