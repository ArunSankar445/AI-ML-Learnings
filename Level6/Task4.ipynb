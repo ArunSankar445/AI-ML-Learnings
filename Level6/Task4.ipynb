{
 "cells": [
  {
   "cell_type": "code",
   "execution_count": 1,
   "metadata": {},
   "outputs": [],
   "source": [
    "import pandas as pd"
   ]
  },
  {
   "cell_type": "code",
   "execution_count": 2,
   "metadata": {},
   "outputs": [],
   "source": [
    "data = {\n",
    "    \"Number_of_Pets\": [0, 2, 3, 1, 5],  # Discrete numerical values\n",
    "    \"Blood_Type\": [\"A\", \"B\", \"O\", \"AB\", \"A\"],  # Categorical (Nominal)\n",
    "    \"Weight_kg\": [50.5, 72.3, 60.0, 80.2, 65.4],  # Continuous numerical values\n",
    "    \"Satisfaction_Level\": [\"Low\", \"High\", \"Medium\", \"Medium\", \"Low\"]  # Categorical (Ordinal)\n",
    "}"
   ]
  },
  {
   "cell_type": "code",
   "execution_count": 3,
   "metadata": {},
   "outputs": [],
   "source": [
    "df = pd.DataFrame(data)"
   ]
  },
  {
   "cell_type": "code",
   "execution_count": 4,
   "metadata": {},
   "outputs": [
    {
     "name": "stdout",
     "output_type": "stream",
     "text": [
      "Number_of_Pets          int64\n",
      "Blood_Type             object\n",
      "Weight_kg             float64\n",
      "Satisfaction_Level     object\n",
      "dtype: object\n",
      "\n",
      "Dataset:\n",
      "    Number_of_Pets Blood_Type  Weight_kg Satisfaction_Level\n",
      "0               0          A       50.5                Low\n",
      "1               2          B       72.3               High\n",
      "2               3          O       60.0             Medium\n",
      "3               1         AB       80.2             Medium\n",
      "4               5          A       65.4                Low\n"
     ]
    }
   ],
   "source": [
    "print(df.dtypes)\n",
    "print(\"\\nDataset:\\n\", df)\n"
   ]
  }
 ],
 "metadata": {
  "kernelspec": {
   "display_name": "Python 3 (myenv)",
   "language": "python",
   "name": "myenv"
  },
  "language_info": {
   "codemirror_mode": {
    "name": "ipython",
    "version": 3
   },
   "file_extension": ".py",
   "mimetype": "text/x-python",
   "name": "python",
   "nbconvert_exporter": "python",
   "pygments_lexer": "ipython3",
   "version": "3.12.4"
  }
 },
 "nbformat": 4,
 "nbformat_minor": 2
}
