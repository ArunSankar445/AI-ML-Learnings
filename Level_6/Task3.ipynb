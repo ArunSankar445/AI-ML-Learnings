{
 "cells": [
  {
   "cell_type": "code",
   "execution_count": 1,
   "metadata": {},
   "outputs": [],
   "source": [
    "import numpy as np\n",
    "import pandas as pd\n",
    "from sklearn.model_selection import train_test_split"
   ]
  },
  {
   "cell_type": "code",
   "execution_count": 3,
   "metadata": {},
   "outputs": [],
   "source": [
    "np.random.seed(42)\n",
    "data = {\n",
    "    'Employee_ID': np.arange(1, 101),  # 100 employees\n",
    "    'Department': np.random.choice(['HR', 'IT', 'Finance', 'Sales'], size=100, p=[0.2, 0.3, 0.1, 0.4])  # Varying department sizes\n",
    "}\n",
    "\n",
    "df = pd.DataFrame(data)"
   ]
  },
  {
   "cell_type": "code",
   "execution_count": 4,
   "metadata": {},
   "outputs": [],
   "source": [
    "stratified_sample, _ = train_test_split(df, test_size=0.7, stratify=df['Department'], random_state=42)"
   ]
  },
  {
   "cell_type": "code",
   "execution_count": 5,
   "metadata": {},
   "outputs": [
    {
     "name": "stdout",
     "output_type": "stream",
     "text": [
      "Stratified Sample:\n",
      " Department\n",
      "Finance     3\n",
      "HR          8\n",
      "IT          8\n",
      "Sales      11\n",
      "dtype: int64\n",
      "\n",
      "Original Data Distribution:\n",
      " Department\n",
      "Finance    10\n",
      "HR         28\n",
      "IT         25\n",
      "Sales      37\n",
      "dtype: int64\n"
     ]
    }
   ],
   "source": [
    "print(\"Stratified Sample:\\n\", stratified_sample.groupby('Department').size())\n",
    "print(\"\\nOriginal Data Distribution:\\n\", df.groupby('Department').size())"
   ]
  },
  {
   "cell_type": "code",
   "execution_count": null,
   "metadata": {},
   "outputs": [],
   "source": []
  }
 ],
 "metadata": {
  "kernelspec": {
   "display_name": "Python 3 (myenv)",
   "language": "python",
   "name": "myenv"
  },
  "language_info": {
   "codemirror_mode": {
    "name": "ipython",
    "version": 3
   },
   "file_extension": ".py",
   "mimetype": "text/x-python",
   "name": "python",
   "nbconvert_exporter": "python",
   "pygments_lexer": "ipython3",
   "version": "3.12.4"
  }
 },
 "nbformat": 4,
 "nbformat_minor": 2
}
