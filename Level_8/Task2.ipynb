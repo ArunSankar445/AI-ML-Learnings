{
 "cells": [
  {
   "cell_type": "code",
   "execution_count": 2,
   "metadata": {},
   "outputs": [],
   "source": [
    "import numpy as np\n",
    "import scipy.stats as stats"
   ]
  },
  {
   "cell_type": "code",
   "execution_count": 3,
   "metadata": {},
   "outputs": [],
   "source": [
    "sample = np.random.normal(loc= 140, scale= 20, size= 30)"
   ]
  },
  {
   "cell_type": "code",
   "execution_count": 4,
   "metadata": {},
   "outputs": [],
   "source": [
    "t_score, p_value = stats.ttest_1samp(sample, popmean= 100)"
   ]
  },
  {
   "cell_type": "code",
   "execution_count": 6,
   "metadata": {},
   "outputs": [
    {
     "name": "stdout",
     "output_type": "stream",
     "text": [
      "T-Score: 14.20\n",
      "p < 0.05, Reject H₀; medication increases IQ (mean = 140 > 100).\n"
     ]
    }
   ],
   "source": [
    "print(f\"T-Score: {t_score:.2f}\")\n",
    "if p_value < 0.05:\n",
    "    print(\"p < 0.05, Reject H₀; medication increases IQ (mean = 140 > 100).\")\n",
    "else:\n",
    "    print(\"Fail to reject H₀; no significant effect of medication on IQ.\")"
   ]
  }
 ],
 "metadata": {
  "kernelspec": {
   "display_name": "Python 3 (myenv)",
   "language": "python",
   "name": "myenv"
  },
  "language_info": {
   "codemirror_mode": {
    "name": "ipython",
    "version": 3
   },
   "file_extension": ".py",
   "mimetype": "text/x-python",
   "name": "python",
   "nbconvert_exporter": "python",
   "pygments_lexer": "ipython3",
   "version": "3.12.4"
  }
 },
 "nbformat": 4,
 "nbformat_minor": 2
}
