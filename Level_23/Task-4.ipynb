{
 "cells": [
  {
   "cell_type": "code",
   "execution_count": 9,
   "id": "eabd340c",
   "metadata": {},
   "outputs": [
    {
     "name": "stderr",
     "output_type": "stream",
     "text": [
      "\n",
      "[notice] A new release of pip is available: 25.0.1 -> 25.1\n",
      "[notice] To update, run: python.exe -m pip install --upgrade pip\n"
     ]
    }
   ],
   "source": [
    "!pip install imbalanced-learn --quiet"
   ]
  },
  {
   "cell_type": "code",
   "execution_count": 12,
   "id": "028f5270",
   "metadata": {},
   "outputs": [
    {
     "name": "stderr",
     "output_type": "stream",
     "text": [
      "c:\\Users\\dhaks\\anaconda3\\Lib\\site-packages\\sklearn\\metrics\\_classification.py:1531: UndefinedMetricWarning: Precision is ill-defined and being set to 0.0 in labels with no predicted samples. Use `zero_division` parameter to control this behavior.\n",
      "  _warn_prf(average, modifier, f\"{metric.capitalize()} is\", len(result))\n",
      "c:\\Users\\dhaks\\anaconda3\\Lib\\site-packages\\sklearn\\metrics\\_classification.py:1531: UndefinedMetricWarning: Precision is ill-defined and being set to 0.0 in labels with no predicted samples. Use `zero_division` parameter to control this behavior.\n",
      "  _warn_prf(average, modifier, f\"{metric.capitalize()} is\", len(result))\n",
      "c:\\Users\\dhaks\\anaconda3\\Lib\\site-packages\\sklearn\\metrics\\_classification.py:1531: UndefinedMetricWarning: Precision is ill-defined and being set to 0.0 in labels with no predicted samples. Use `zero_division` parameter to control this behavior.\n",
      "  _warn_prf(average, modifier, f\"{metric.capitalize()} is\", len(result))\n"
     ]
    },
    {
     "name": "stdout",
     "output_type": "stream",
     "text": [
      " Comparison of Precision, Recall, and F1-Score (Class: Fraud)\n"
     ]
    },
    {
     "name": "stderr",
     "output_type": "stream",
     "text": [
      "c:\\Users\\dhaks\\anaconda3\\Lib\\site-packages\\sklearn\\neural_network\\_multilayer_perceptron.py:690: ConvergenceWarning: Stochastic Optimizer: Maximum iterations (100) reached and the optimization hasn't converged yet.\n",
      "  warnings.warn(\n"
     ]
    },
    {
     "data": {
      "text/html": [
       "<div>\n",
       "<style scoped>\n",
       "    .dataframe tbody tr th:only-of-type {\n",
       "        vertical-align: middle;\n",
       "    }\n",
       "\n",
       "    .dataframe tbody tr th {\n",
       "        vertical-align: top;\n",
       "    }\n",
       "\n",
       "    .dataframe thead th {\n",
       "        text-align: right;\n",
       "    }\n",
       "</style>\n",
       "<table border=\"1\" class=\"dataframe\">\n",
       "  <thead>\n",
       "    <tr style=\"text-align: right;\">\n",
       "      <th></th>\n",
       "      <th>Metric</th>\n",
       "      <th>Before Balancing</th>\n",
       "      <th>After Balancing (SMOTE)</th>\n",
       "    </tr>\n",
       "  </thead>\n",
       "  <tbody>\n",
       "    <tr>\n",
       "      <th>0</th>\n",
       "      <td>Precision</td>\n",
       "      <td>0.0</td>\n",
       "      <td>0.011</td>\n",
       "    </tr>\n",
       "    <tr>\n",
       "      <th>1</th>\n",
       "      <td>Recall</td>\n",
       "      <td>0.0</td>\n",
       "      <td>0.280</td>\n",
       "    </tr>\n",
       "    <tr>\n",
       "      <th>2</th>\n",
       "      <td>F1-Score</td>\n",
       "      <td>0.0</td>\n",
       "      <td>0.021</td>\n",
       "    </tr>\n",
       "  </tbody>\n",
       "</table>\n",
       "</div>"
      ],
      "text/plain": [
       "      Metric  Before Balancing  After Balancing (SMOTE)\n",
       "0  Precision               0.0                    0.011\n",
       "1     Recall               0.0                    0.280\n",
       "2   F1-Score               0.0                    0.021"
      ]
     },
     "metadata": {},
     "output_type": "display_data"
    },
    {
     "name": "stdout",
     "output_type": "stream",
     "text": [
      "\n",
      "🔹 F1-Score improved by 0.00% after applying SMOTE.\n"
     ]
    }
   ],
   "source": [
    "import pandas as pd\n",
    "from sklearn.model_selection import train_test_split\n",
    "from sklearn.preprocessing import StandardScaler, OneHotEncoder\n",
    "from sklearn.compose import ColumnTransformer\n",
    "from sklearn.pipeline import Pipeline\n",
    "from sklearn.metrics import classification_report\n",
    "from sklearn.neural_network import MLPClassifier\n",
    "from imblearn.over_sampling import SMOTE\n",
    "from imblearn.under_sampling import RandomUnderSampler\n",
    "from imblearn.pipeline import Pipeline as ImbPipeline\n",
    "import numpy as np\n",
    "\n",
    "df = pd.read_csv(\"credit_card_fraud_dataset.csv\") \n",
    "df = df.drop(columns=['TransactionID', 'TransactionDate'])\n",
    "\n",
    "X = df.drop('IsFraud', axis=1)\n",
    "y = df['IsFraud']\n",
    "\n",
    "categorical_features = ['TransactionType', 'Location']\n",
    "numeric_features = ['Amount', 'MerchantID']\n",
    "\n",
    "preprocessor = ColumnTransformer(\n",
    "    transformers=[\n",
    "        ('num', StandardScaler(), numeric_features),\n",
    "        ('cat', OneHotEncoder(handle_unknown='ignore'), categorical_features)\n",
    "    ]\n",
    ")\n",
    "\n",
    "X_train, X_test, y_train, y_test = train_test_split(\n",
    "    X, y, test_size=0.2, stratify=y, random_state=42\n",
    ")\n",
    "\n",
    "baseline_pipeline = Pipeline(steps=[\n",
    "    ('preprocessor', preprocessor),\n",
    "    ('classifier', MLPClassifier(hidden_layer_sizes=(64, 32), max_iter=100, random_state=42))\n",
    "])\n",
    "\n",
    "baseline_pipeline.fit(X_train, y_train)\n",
    "y_pred_baseline = baseline_pipeline.predict(X_test)\n",
    "report_baseline = classification_report(y_test, y_pred_baseline, output_dict=True)\n",
    "\n",
    "balanced_pipeline = ImbPipeline(steps=[\n",
    "    ('preprocessor', preprocessor),\n",
    "    ('sampler', SMOTE(random_state=42)),\n",
    "    ('classifier', MLPClassifier(hidden_layer_sizes=(64, 32), max_iter=100, random_state=42))\n",
    "])\n",
    "\n",
    "balanced_pipeline.fit(X_train, y_train)\n",
    "y_pred_balanced = balanced_pipeline.predict(X_test)\n",
    "report_balanced = classification_report(y_test, y_pred_balanced, output_dict=True)\n",
    "\n",
    "def extract_metrics(report):\n",
    "    return {\n",
    "        \"Precision\": round(report[\"1\"][\"precision\"], 3),\n",
    "        \"Recall\": round(report[\"1\"][\"recall\"], 3),\n",
    "        \"F1-Score\": round(report[\"1\"][\"f1-score\"], 3),\n",
    "    }\n",
    "\n",
    "comparison_df = pd.DataFrame({\n",
    "    \"Before Balancing\": extract_metrics(report_baseline),\n",
    "    \"After Balancing (SMOTE)\": extract_metrics(report_balanced)\n",
    "})\n",
    "\n",
    "metrics = [\"precision\", \"recall\", \"f1-score\"]\n",
    "before = [report_baseline[\"1\"][m] for m in metrics]\n",
    "after = [report_balanced[\"1\"][m] for m in metrics]\n",
    "\n",
    "comparison_df = pd.DataFrame({\n",
    "    \"Metric\": [\"Precision\", \"Recall\", \"F1-Score\"],\n",
    "    \"Before Balancing\": np.round(before, 3),\n",
    "    \"After Balancing (SMOTE)\": np.round(after, 3)\n",
    "})\n",
    "\n",
    "f1_before = report_baseline[\"1\"][\"f1-score\"]\n",
    "f1_after = report_balanced[\"1\"][\"f1-score\"]\n",
    "improvement = ((f1_after - f1_before) / f1_before) * 100 if f1_before > 0 else 0\n",
    "note = f\"🔹 F1-Score improved by {improvement:.2f}% after applying SMOTE.\"\n",
    "\n",
    "print(\" Comparison of Precision, Recall, and F1-Score (Class: Fraud)\")\n",
    "display(comparison_df)\n",
    "print(\"\\n\" + note)\n"
   ]
  },
  {
   "cell_type": "code",
   "execution_count": null,
   "id": "986ae0b1",
   "metadata": {},
   "outputs": [],
   "source": []
  }
 ],
 "metadata": {
  "kernelspec": {
   "display_name": "base",
   "language": "python",
   "name": "python3"
  },
  "language_info": {
   "codemirror_mode": {
    "name": "ipython",
    "version": 3
   },
   "file_extension": ".py",
   "mimetype": "text/x-python",
   "name": "python",
   "nbconvert_exporter": "python",
   "pygments_lexer": "ipython3",
   "version": "3.12.3"
  }
 },
 "nbformat": 4,
 "nbformat_minor": 5
}
