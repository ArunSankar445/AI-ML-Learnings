{
 "cells": [
  {
   "cell_type": "code",
   "execution_count": 22,
   "metadata": {},
   "outputs": [],
   "source": [
    "import numpy as np"
   ]
  },
  {
   "cell_type": "code",
   "execution_count": 26,
   "metadata": {},
   "outputs": [],
   "source": [
    "data = np.array([2, 3, 4, 5, 6, 7])"
   ]
  },
  {
   "cell_type": "code",
   "execution_count": 27,
   "metadata": {},
   "outputs": [],
   "source": [
    "mean = np.mean(data)\n",
    "standard_deviation = np.std(data)"
   ]
  },
  {
   "cell_type": "code",
   "execution_count": 31,
   "metadata": {},
   "outputs": [
    {
     "name": "stdout",
     "output_type": "stream",
     "text": [
      "Z-score: [-1.46 -0.88 -0.29  0.29  0.88  1.46]\n",
      "The z-score for 5 is 0.29, meaning it's 0.29 standard deciationsabove the mean.\n"
     ]
    }
   ],
   "source": [
    "z_score = (data - mean)/ standard_deviation\n",
    "z_score_5 = (5 - mean)/ standard_deviation\n",
    "print(f\"Z-score: {z_score.round(2)}\")\n",
    "print(f\"The z-score for 5 is {z_score_5:.2f}, meaning it's {z_score_5:.2f} standard deciationsabove the mean.\")"
   ]
  }
 ],
 "metadata": {
  "kernelspec": {
   "display_name": "Python 3 (myenv)",
   "language": "python",
   "name": "myenv"
  },
  "language_info": {
   "codemirror_mode": {
    "name": "ipython",
    "version": 3
   },
   "file_extension": ".py",
   "mimetype": "text/x-python",
   "name": "python",
   "nbconvert_exporter": "python",
   "pygments_lexer": "ipython3",
   "version": "3.12.4"
  }
 },
 "nbformat": 4,
 "nbformat_minor": 2
}
