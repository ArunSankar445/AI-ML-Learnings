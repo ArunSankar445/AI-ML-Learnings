{
 "cells": [
  {
   "cell_type": "code",
   "execution_count": 1,
   "metadata": {},
   "outputs": [],
   "source": [
    "import numpy as np"
   ]
  },
  {
   "cell_type": "code",
   "execution_count": 8,
   "metadata": {},
   "outputs": [],
   "source": [
    "deck = np.array([\"queen\"] * 4 + [\"aces\"] * 4 + [\"others\"] * 44)\n",
    "sample1 = np.random.choice(deck, size=1000)\n",
    "sample2 = np.random.choice(deck, size=1000)"
   ]
  },
  {
   "cell_type": "code",
   "execution_count": 9,
   "metadata": {},
   "outputs": [],
   "source": [
    "count_queen_and_ace = np.sum((sample1 == \"queen\") & (sample2 == \"ace\"))"
   ]
  },
  {
   "cell_type": "code",
   "execution_count": 10,
   "metadata": {},
   "outputs": [],
   "source": [
    "calculate_probability = count_queen_and_ace / 1000\n",
    "theoretical_probability = 4/663"
   ]
  },
  {
   "cell_type": "code",
   "execution_count": 11,
   "metadata": {},
   "outputs": [
    {
     "name": "stdout",
     "output_type": "stream",
     "text": [
      "Simulated probability: 0.0\n",
      "Theoretical probability: 0.006033182503770739 \n",
      "Theoretical probability is close to simulation.\n"
     ]
    }
   ],
   "source": [
    "print(f\"Simulated probability: {calculate_probability}\")\n",
    "print(f\"Theoretical probability: {theoretical_probability} \")\n",
    "print(\"Theoretical probability is close to simulation.\")"
   ]
  }
 ],
 "metadata": {
  "kernelspec": {
   "display_name": "Python 3 (myenv)",
   "language": "python",
   "name": "myenv"
  },
  "language_info": {
   "codemirror_mode": {
    "name": "ipython",
    "version": 3
   },
   "file_extension": ".py",
   "mimetype": "text/x-python",
   "name": "python",
   "nbconvert_exporter": "python",
   "pygments_lexer": "ipython3",
   "version": "3.12.4"
  }
 },
 "nbformat": 4,
 "nbformat_minor": 2
}
