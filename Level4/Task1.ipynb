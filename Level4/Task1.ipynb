{
 "cells": [
  {
   "cell_type": "code",
   "execution_count": 1,
   "metadata": {},
   "outputs": [],
   "source": [
    "import pandas as pd"
   ]
  },
  {
   "cell_type": "code",
   "execution_count": 7,
   "metadata": {},
   "outputs": [],
   "source": [
    "df = pd.read_csv(\"House Price Prediction Dataset.csv\")"
   ]
  },
  {
   "cell_type": "code",
   "execution_count": 8,
   "metadata": {},
   "outputs": [],
   "source": [
    "statistics = df.describe()"
   ]
  },
  {
   "cell_type": "code",
   "execution_count": 9,
   "metadata": {},
   "outputs": [
    {
     "name": "stdout",
     "output_type": "stream",
     "text": [
      "                Id         Area     Bedrooms   Bathrooms       Floors  \\\n",
      "count  2000.000000  2000.000000  2000.000000  2000.00000  2000.000000   \n",
      "mean   1000.500000  2786.209500     3.003500     2.55250     1.993500   \n",
      "std     577.494589  1295.146799     1.424606     1.10899     0.809188   \n",
      "min       1.000000   501.000000     1.000000     1.00000     1.000000   \n",
      "25%     500.750000  1653.000000     2.000000     2.00000     1.000000   \n",
      "50%    1000.500000  2833.000000     3.000000     3.00000     2.000000   \n",
      "75%    1500.250000  3887.500000     4.000000     4.00000     3.000000   \n",
      "max    2000.000000  4999.000000     5.000000     4.00000     3.000000   \n",
      "\n",
      "         YearBuilt          Price  \n",
      "count  2000.000000    2000.000000  \n",
      "mean   1961.446000  537676.855000  \n",
      "std      35.926695  276428.845719  \n",
      "min    1900.000000   50005.000000  \n",
      "25%    1930.000000  300098.000000  \n",
      "50%    1961.000000  539254.000000  \n",
      "75%    1993.000000  780086.000000  \n",
      "max    2023.000000  999656.000000  \n"
     ]
    }
   ],
   "source": [
    "print(statistics)"
   ]
  }
 ],
 "metadata": {
  "kernelspec": {
   "display_name": "Python 3 (myenv)",
   "language": "python",
   "name": "myenv"
  },
  "language_info": {
   "codemirror_mode": {
    "name": "ipython",
    "version": 3
   },
   "file_extension": ".py",
   "mimetype": "text/x-python",
   "name": "python",
   "nbconvert_exporter": "python",
   "pygments_lexer": "ipython3",
   "version": "3.12.4"
  }
 },
 "nbformat": 4,
 "nbformat_minor": 2
}
